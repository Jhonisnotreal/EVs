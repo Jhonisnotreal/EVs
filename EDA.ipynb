{
 "cells": [
  {
   "cell_type": "markdown",
   "metadata": {},
   "source": [
    "# Importing Libraries"
   ]
  },
  {
   "cell_type": "code",
   "execution_count": 64,
   "metadata": {},
   "outputs": [],
   "source": [
    "import pandas as pd\n",
    "import numpy as np\n",
    "import matplotlib.pyplot as plt\n",
    "import seaborn as sns"
   ]
  },
  {
   "cell_type": "markdown",
   "metadata": {},
   "source": [
    "# Reading the Data"
   ]
  },
  {
   "cell_type": "code",
   "execution_count": 2,
   "metadata": {},
   "outputs": [],
   "source": [
    "EVs = pd.read_csv('Dataset/Electric_Vehicle_Population_Data.csv')"
   ]
  },
  {
   "cell_type": "code",
   "execution_count": 2,
   "metadata": {},
   "outputs": [
    {
     "name": "stdout",
     "output_type": "stream",
     "text": [
      "(166800, 17)\n",
      "Index(['VIN (1-10)', 'County', 'City', 'State', 'Postal Code', 'Model Year',\n",
      "       'Make', 'Model', 'Electric Vehicle Type',\n",
      "       'Clean Alternative Fuel Vehicle (CAFV) Eligibility', 'Electric Range',\n",
      "       'Base MSRP', 'Legislative District', 'DOL Vehicle ID',\n",
      "       'Vehicle Location', 'Electric Utility', '2020 Census Tract'],\n",
      "      dtype='object')\n"
     ]
    }
   ],
   "source": [
    "print(EVs.shape)\n",
    "print(EVs.columns)"
   ]
  },
  {
   "cell_type": "code",
   "execution_count": 4,
   "metadata": {},
   "outputs": [
    {
     "name": "stdout",
     "output_type": "stream",
     "text": [
      "<class 'pandas.core.frame.DataFrame'>\n",
      "RangeIndex: 166800 entries, 0 to 166799\n",
      "Data columns (total 17 columns):\n",
      " #   Column                                             Non-Null Count   Dtype  \n",
      "---  ------                                             --------------   -----  \n",
      " 0   VIN (1-10)                                         166800 non-null  object \n",
      " 1   County                                             166795 non-null  object \n",
      " 2   City                                               166795 non-null  object \n",
      " 3   State                                              166800 non-null  object \n",
      " 4   Postal Code                                        166795 non-null  float64\n",
      " 5   Model Year                                         166800 non-null  int64  \n",
      " 6   Make                                               166800 non-null  object \n",
      " 7   Model                                              166800 non-null  object \n",
      " 8   Electric Vehicle Type                              166800 non-null  object \n",
      " 9   Clean Alternative Fuel Vehicle (CAFV) Eligibility  166800 non-null  object \n",
      " 10  Electric Range                                     166800 non-null  int64  \n",
      " 11  Base MSRP                                          166800 non-null  int64  \n",
      " 12  Legislative District                               166440 non-null  float64\n",
      " 13  DOL Vehicle ID                                     166800 non-null  int64  \n",
      " 14  Vehicle Location                                   166790 non-null  object \n",
      " 15  Electric Utility                                   166795 non-null  object \n",
      " 16  2020 Census Tract                                  166795 non-null  float64\n",
      "dtypes: float64(3), int64(4), object(10)\n",
      "memory usage: 21.6+ MB\n"
     ]
    }
   ],
   "source": [
    "EVs.info()"
   ]
  },
  {
   "cell_type": "code",
   "execution_count": 18,
   "metadata": {},
   "outputs": [
    {
     "data": {
      "text/html": [
       "<div>\n",
       "<style scoped>\n",
       "    .dataframe tbody tr th:only-of-type {\n",
       "        vertical-align: middle;\n",
       "    }\n",
       "\n",
       "    .dataframe tbody tr th {\n",
       "        vertical-align: top;\n",
       "    }\n",
       "\n",
       "    .dataframe thead th {\n",
       "        text-align: right;\n",
       "    }\n",
       "</style>\n",
       "<table border=\"1\" class=\"dataframe\">\n",
       "  <thead>\n",
       "    <tr style=\"text-align: right;\">\n",
       "      <th></th>\n",
       "      <th>VIN (1-10)</th>\n",
       "      <th>County</th>\n",
       "      <th>City</th>\n",
       "      <th>State</th>\n",
       "      <th>Postal Code</th>\n",
       "      <th>Model Year</th>\n",
       "      <th>Make</th>\n",
       "      <th>Model</th>\n",
       "      <th>Electric Vehicle Type</th>\n",
       "      <th>Clean Alternative Fuel Vehicle (CAFV) Eligibility</th>\n",
       "      <th>Electric Range</th>\n",
       "      <th>Base MSRP</th>\n",
       "      <th>Legislative District</th>\n",
       "      <th>DOL Vehicle ID</th>\n",
       "      <th>Vehicle Location</th>\n",
       "      <th>Electric Utility</th>\n",
       "      <th>2020 Census Tract</th>\n",
       "    </tr>\n",
       "  </thead>\n",
       "  <tbody>\n",
       "    <tr>\n",
       "      <th>0</th>\n",
       "      <td>3C3CFFGE4E</td>\n",
       "      <td>Yakima</td>\n",
       "      <td>Yakima</td>\n",
       "      <td>WA</td>\n",
       "      <td>98902.0</td>\n",
       "      <td>2014</td>\n",
       "      <td>FIAT</td>\n",
       "      <td>500</td>\n",
       "      <td>Battery Electric Vehicle (BEV)</td>\n",
       "      <td>Clean Alternative Fuel Vehicle Eligible</td>\n",
       "      <td>87</td>\n",
       "      <td>0</td>\n",
       "      <td>14.0</td>\n",
       "      <td>1593721</td>\n",
       "      <td>POINT (-120.524012 46.5973939)</td>\n",
       "      <td>PACIFICORP</td>\n",
       "      <td>5.307700e+10</td>\n",
       "    </tr>\n",
       "    <tr>\n",
       "      <th>1</th>\n",
       "      <td>5YJXCBE40H</td>\n",
       "      <td>Thurston</td>\n",
       "      <td>Olympia</td>\n",
       "      <td>WA</td>\n",
       "      <td>98513.0</td>\n",
       "      <td>2017</td>\n",
       "      <td>TESLA</td>\n",
       "      <td>MODEL X</td>\n",
       "      <td>Battery Electric Vehicle (BEV)</td>\n",
       "      <td>Clean Alternative Fuel Vehicle Eligible</td>\n",
       "      <td>200</td>\n",
       "      <td>0</td>\n",
       "      <td>2.0</td>\n",
       "      <td>257167501</td>\n",
       "      <td>POINT (-122.817545 46.98876)</td>\n",
       "      <td>PUGET SOUND ENERGY INC</td>\n",
       "      <td>5.306701e+10</td>\n",
       "    </tr>\n",
       "    <tr>\n",
       "      <th>2</th>\n",
       "      <td>3MW39FS03P</td>\n",
       "      <td>King</td>\n",
       "      <td>Renton</td>\n",
       "      <td>WA</td>\n",
       "      <td>98058.0</td>\n",
       "      <td>2023</td>\n",
       "      <td>BMW</td>\n",
       "      <td>330E</td>\n",
       "      <td>Plug-in Hybrid Electric Vehicle (PHEV)</td>\n",
       "      <td>Not eligible due to low battery range</td>\n",
       "      <td>20</td>\n",
       "      <td>0</td>\n",
       "      <td>11.0</td>\n",
       "      <td>224071816</td>\n",
       "      <td>POINT (-122.1298876 47.4451257)</td>\n",
       "      <td>PUGET SOUND ENERGY INC||CITY OF TACOMA - (WA)</td>\n",
       "      <td>5.303303e+10</td>\n",
       "    </tr>\n",
       "    <tr>\n",
       "      <th>3</th>\n",
       "      <td>7PDSGABA8P</td>\n",
       "      <td>Snohomish</td>\n",
       "      <td>Bothell</td>\n",
       "      <td>WA</td>\n",
       "      <td>98012.0</td>\n",
       "      <td>2023</td>\n",
       "      <td>RIVIAN</td>\n",
       "      <td>R1S</td>\n",
       "      <td>Battery Electric Vehicle (BEV)</td>\n",
       "      <td>Eligibility unknown as battery range has not b...</td>\n",
       "      <td>0</td>\n",
       "      <td>0</td>\n",
       "      <td>21.0</td>\n",
       "      <td>260084653</td>\n",
       "      <td>POINT (-122.1873 47.820245)</td>\n",
       "      <td>PUGET SOUND ENERGY INC</td>\n",
       "      <td>5.306105e+10</td>\n",
       "    </tr>\n",
       "    <tr>\n",
       "      <th>4</th>\n",
       "      <td>5YJ3E1EB8L</td>\n",
       "      <td>King</td>\n",
       "      <td>Kent</td>\n",
       "      <td>WA</td>\n",
       "      <td>98031.0</td>\n",
       "      <td>2020</td>\n",
       "      <td>TESLA</td>\n",
       "      <td>MODEL 3</td>\n",
       "      <td>Battery Electric Vehicle (BEV)</td>\n",
       "      <td>Clean Alternative Fuel Vehicle Eligible</td>\n",
       "      <td>322</td>\n",
       "      <td>0</td>\n",
       "      <td>33.0</td>\n",
       "      <td>253771913</td>\n",
       "      <td>POINT (-122.2012521 47.3931814)</td>\n",
       "      <td>PUGET SOUND ENERGY INC||CITY OF TACOMA - (WA)</td>\n",
       "      <td>5.303303e+10</td>\n",
       "    </tr>\n",
       "    <tr>\n",
       "      <th>...</th>\n",
       "      <td>...</td>\n",
       "      <td>...</td>\n",
       "      <td>...</td>\n",
       "      <td>...</td>\n",
       "      <td>...</td>\n",
       "      <td>...</td>\n",
       "      <td>...</td>\n",
       "      <td>...</td>\n",
       "      <td>...</td>\n",
       "      <td>...</td>\n",
       "      <td>...</td>\n",
       "      <td>...</td>\n",
       "      <td>...</td>\n",
       "      <td>...</td>\n",
       "      <td>...</td>\n",
       "      <td>...</td>\n",
       "      <td>...</td>\n",
       "    </tr>\n",
       "    <tr>\n",
       "      <th>166795</th>\n",
       "      <td>3FA6P0SU4D</td>\n",
       "      <td>Spokane</td>\n",
       "      <td>Spokane</td>\n",
       "      <td>WA</td>\n",
       "      <td>99223.0</td>\n",
       "      <td>2013</td>\n",
       "      <td>FORD</td>\n",
       "      <td>FUSION</td>\n",
       "      <td>Plug-in Hybrid Electric Vehicle (PHEV)</td>\n",
       "      <td>Not eligible due to low battery range</td>\n",
       "      <td>19</td>\n",
       "      <td>0</td>\n",
       "      <td>6.0</td>\n",
       "      <td>239527123</td>\n",
       "      <td>POINT (-117.369705 47.62637)</td>\n",
       "      <td>BONNEVILLE POWER ADMINISTRATION||AVISTA CORP||...</td>\n",
       "      <td>5.306300e+10</td>\n",
       "    </tr>\n",
       "    <tr>\n",
       "      <th>166796</th>\n",
       "      <td>5YJYGDEE5M</td>\n",
       "      <td>King</td>\n",
       "      <td>Sammamish</td>\n",
       "      <td>WA</td>\n",
       "      <td>98074.0</td>\n",
       "      <td>2021</td>\n",
       "      <td>TESLA</td>\n",
       "      <td>MODEL Y</td>\n",
       "      <td>Battery Electric Vehicle (BEV)</td>\n",
       "      <td>Eligibility unknown as battery range has not b...</td>\n",
       "      <td>0</td>\n",
       "      <td>0</td>\n",
       "      <td>45.0</td>\n",
       "      <td>148715479</td>\n",
       "      <td>POINT (-122.0313266 47.6285782)</td>\n",
       "      <td>PUGET SOUND ENERGY INC||CITY OF TACOMA - (WA)</td>\n",
       "      <td>5.303303e+10</td>\n",
       "    </tr>\n",
       "    <tr>\n",
       "      <th>166797</th>\n",
       "      <td>7SAYGDEE5N</td>\n",
       "      <td>Snohomish</td>\n",
       "      <td>Mukilteo</td>\n",
       "      <td>WA</td>\n",
       "      <td>98275.0</td>\n",
       "      <td>2022</td>\n",
       "      <td>TESLA</td>\n",
       "      <td>MODEL Y</td>\n",
       "      <td>Battery Electric Vehicle (BEV)</td>\n",
       "      <td>Eligibility unknown as battery range has not b...</td>\n",
       "      <td>0</td>\n",
       "      <td>0</td>\n",
       "      <td>21.0</td>\n",
       "      <td>220504406</td>\n",
       "      <td>POINT (-122.299965 47.94171)</td>\n",
       "      <td>PUGET SOUND ENERGY INC</td>\n",
       "      <td>5.306104e+10</td>\n",
       "    </tr>\n",
       "    <tr>\n",
       "      <th>166798</th>\n",
       "      <td>1G1RH6E43D</td>\n",
       "      <td>Lewis</td>\n",
       "      <td>Mossyrock</td>\n",
       "      <td>WA</td>\n",
       "      <td>98564.0</td>\n",
       "      <td>2013</td>\n",
       "      <td>CHEVROLET</td>\n",
       "      <td>VOLT</td>\n",
       "      <td>Plug-in Hybrid Electric Vehicle (PHEV)</td>\n",
       "      <td>Clean Alternative Fuel Vehicle Eligible</td>\n",
       "      <td>38</td>\n",
       "      <td>0</td>\n",
       "      <td>20.0</td>\n",
       "      <td>156418475</td>\n",
       "      <td>POINT (-122.487535 46.5290135)</td>\n",
       "      <td>BONNEVILLE POWER ADMINISTRATION||CITY OF TACOM...</td>\n",
       "      <td>5.304197e+10</td>\n",
       "    </tr>\n",
       "    <tr>\n",
       "      <th>166799</th>\n",
       "      <td>5YJSA1E27H</td>\n",
       "      <td>Pierce</td>\n",
       "      <td>Gig Harbor</td>\n",
       "      <td>WA</td>\n",
       "      <td>98332.0</td>\n",
       "      <td>2017</td>\n",
       "      <td>TESLA</td>\n",
       "      <td>MODEL S</td>\n",
       "      <td>Battery Electric Vehicle (BEV)</td>\n",
       "      <td>Clean Alternative Fuel Vehicle Eligible</td>\n",
       "      <td>210</td>\n",
       "      <td>0</td>\n",
       "      <td>26.0</td>\n",
       "      <td>169045789</td>\n",
       "      <td>POINT (-122.589645 47.342345)</td>\n",
       "      <td>BONNEVILLE POWER ADMINISTRATION||CITY OF TACOM...</td>\n",
       "      <td>5.305307e+10</td>\n",
       "    </tr>\n",
       "  </tbody>\n",
       "</table>\n",
       "<p>166800 rows × 17 columns</p>\n",
       "</div>"
      ],
      "text/plain": [
       "        VIN (1-10)     County        City State  Postal Code  Model Year  \\\n",
       "0       3C3CFFGE4E     Yakima      Yakima    WA      98902.0        2014   \n",
       "1       5YJXCBE40H   Thurston     Olympia    WA      98513.0        2017   \n",
       "2       3MW39FS03P       King      Renton    WA      98058.0        2023   \n",
       "3       7PDSGABA8P  Snohomish     Bothell    WA      98012.0        2023   \n",
       "4       5YJ3E1EB8L       King        Kent    WA      98031.0        2020   \n",
       "...            ...        ...         ...   ...          ...         ...   \n",
       "166795  3FA6P0SU4D    Spokane     Spokane    WA      99223.0        2013   \n",
       "166796  5YJYGDEE5M       King   Sammamish    WA      98074.0        2021   \n",
       "166797  7SAYGDEE5N  Snohomish    Mukilteo    WA      98275.0        2022   \n",
       "166798  1G1RH6E43D      Lewis   Mossyrock    WA      98564.0        2013   \n",
       "166799  5YJSA1E27H     Pierce  Gig Harbor    WA      98332.0        2017   \n",
       "\n",
       "             Make    Model                   Electric Vehicle Type  \\\n",
       "0            FIAT      500          Battery Electric Vehicle (BEV)   \n",
       "1           TESLA  MODEL X          Battery Electric Vehicle (BEV)   \n",
       "2             BMW     330E  Plug-in Hybrid Electric Vehicle (PHEV)   \n",
       "3          RIVIAN      R1S          Battery Electric Vehicle (BEV)   \n",
       "4           TESLA  MODEL 3          Battery Electric Vehicle (BEV)   \n",
       "...           ...      ...                                     ...   \n",
       "166795       FORD   FUSION  Plug-in Hybrid Electric Vehicle (PHEV)   \n",
       "166796      TESLA  MODEL Y          Battery Electric Vehicle (BEV)   \n",
       "166797      TESLA  MODEL Y          Battery Electric Vehicle (BEV)   \n",
       "166798  CHEVROLET     VOLT  Plug-in Hybrid Electric Vehicle (PHEV)   \n",
       "166799      TESLA  MODEL S          Battery Electric Vehicle (BEV)   \n",
       "\n",
       "        Clean Alternative Fuel Vehicle (CAFV) Eligibility  Electric Range  \\\n",
       "0                 Clean Alternative Fuel Vehicle Eligible              87   \n",
       "1                 Clean Alternative Fuel Vehicle Eligible             200   \n",
       "2                   Not eligible due to low battery range              20   \n",
       "3       Eligibility unknown as battery range has not b...               0   \n",
       "4                 Clean Alternative Fuel Vehicle Eligible             322   \n",
       "...                                                   ...             ...   \n",
       "166795              Not eligible due to low battery range              19   \n",
       "166796  Eligibility unknown as battery range has not b...               0   \n",
       "166797  Eligibility unknown as battery range has not b...               0   \n",
       "166798            Clean Alternative Fuel Vehicle Eligible              38   \n",
       "166799            Clean Alternative Fuel Vehicle Eligible             210   \n",
       "\n",
       "        Base MSRP  Legislative District  DOL Vehicle ID  \\\n",
       "0               0                  14.0         1593721   \n",
       "1               0                   2.0       257167501   \n",
       "2               0                  11.0       224071816   \n",
       "3               0                  21.0       260084653   \n",
       "4               0                  33.0       253771913   \n",
       "...           ...                   ...             ...   \n",
       "166795          0                   6.0       239527123   \n",
       "166796          0                  45.0       148715479   \n",
       "166797          0                  21.0       220504406   \n",
       "166798          0                  20.0       156418475   \n",
       "166799          0                  26.0       169045789   \n",
       "\n",
       "                       Vehicle Location  \\\n",
       "0        POINT (-120.524012 46.5973939)   \n",
       "1          POINT (-122.817545 46.98876)   \n",
       "2       POINT (-122.1298876 47.4451257)   \n",
       "3           POINT (-122.1873 47.820245)   \n",
       "4       POINT (-122.2012521 47.3931814)   \n",
       "...                                 ...   \n",
       "166795     POINT (-117.369705 47.62637)   \n",
       "166796  POINT (-122.0313266 47.6285782)   \n",
       "166797     POINT (-122.299965 47.94171)   \n",
       "166798   POINT (-122.487535 46.5290135)   \n",
       "166799    POINT (-122.589645 47.342345)   \n",
       "\n",
       "                                         Electric Utility  2020 Census Tract  \n",
       "0                                              PACIFICORP       5.307700e+10  \n",
       "1                                  PUGET SOUND ENERGY INC       5.306701e+10  \n",
       "2           PUGET SOUND ENERGY INC||CITY OF TACOMA - (WA)       5.303303e+10  \n",
       "3                                  PUGET SOUND ENERGY INC       5.306105e+10  \n",
       "4           PUGET SOUND ENERGY INC||CITY OF TACOMA - (WA)       5.303303e+10  \n",
       "...                                                   ...                ...  \n",
       "166795  BONNEVILLE POWER ADMINISTRATION||AVISTA CORP||...       5.306300e+10  \n",
       "166796      PUGET SOUND ENERGY INC||CITY OF TACOMA - (WA)       5.303303e+10  \n",
       "166797                             PUGET SOUND ENERGY INC       5.306104e+10  \n",
       "166798  BONNEVILLE POWER ADMINISTRATION||CITY OF TACOM...       5.304197e+10  \n",
       "166799  BONNEVILLE POWER ADMINISTRATION||CITY OF TACOM...       5.305307e+10  \n",
       "\n",
       "[166800 rows x 17 columns]"
      ]
     },
     "execution_count": 18,
     "metadata": {},
     "output_type": "execute_result"
    }
   ],
   "source": [
    "EVs"
   ]
  },
  {
   "cell_type": "code",
   "execution_count": 6,
   "metadata": {},
   "outputs": [
    {
     "data": {
      "text/html": [
       "<div>\n",
       "<style scoped>\n",
       "    .dataframe tbody tr th:only-of-type {\n",
       "        vertical-align: middle;\n",
       "    }\n",
       "\n",
       "    .dataframe tbody tr th {\n",
       "        vertical-align: top;\n",
       "    }\n",
       "\n",
       "    .dataframe thead th {\n",
       "        text-align: right;\n",
       "    }\n",
       "</style>\n",
       "<table border=\"1\" class=\"dataframe\">\n",
       "  <thead>\n",
       "    <tr style=\"text-align: right;\">\n",
       "      <th></th>\n",
       "      <th>Electric Range</th>\n",
       "    </tr>\n",
       "  </thead>\n",
       "  <tbody>\n",
       "    <tr>\n",
       "      <th>count</th>\n",
       "      <td>166800.000000</td>\n",
       "    </tr>\n",
       "    <tr>\n",
       "      <th>mean</th>\n",
       "      <td>61.508993</td>\n",
       "    </tr>\n",
       "    <tr>\n",
       "      <th>std</th>\n",
       "      <td>93.271747</td>\n",
       "    </tr>\n",
       "    <tr>\n",
       "      <th>min</th>\n",
       "      <td>0.000000</td>\n",
       "    </tr>\n",
       "    <tr>\n",
       "      <th>25%</th>\n",
       "      <td>0.000000</td>\n",
       "    </tr>\n",
       "    <tr>\n",
       "      <th>50%</th>\n",
       "      <td>0.000000</td>\n",
       "    </tr>\n",
       "    <tr>\n",
       "      <th>75%</th>\n",
       "      <td>84.000000</td>\n",
       "    </tr>\n",
       "    <tr>\n",
       "      <th>max</th>\n",
       "      <td>337.000000</td>\n",
       "    </tr>\n",
       "  </tbody>\n",
       "</table>\n",
       "</div>"
      ],
      "text/plain": [
       "       Electric Range\n",
       "count   166800.000000\n",
       "mean        61.508993\n",
       "std         93.271747\n",
       "min          0.000000\n",
       "25%          0.000000\n",
       "50%          0.000000\n",
       "75%         84.000000\n",
       "max        337.000000"
      ]
     },
     "execution_count": 6,
     "metadata": {},
     "output_type": "execute_result"
    }
   ],
   "source": [
    "cols = ['Make', 'Electric Range', 'Electric Utility']\n",
    "EVs[cols].describe()"
   ]
  },
  {
   "cell_type": "markdown",
   "metadata": {},
   "source": [
    "# Null values"
   ]
  },
  {
   "cell_type": "code",
   "execution_count": 9,
   "metadata": {},
   "outputs": [
    {
     "data": {
      "text/plain": [
       "Legislative District                                 360\n",
       "Vehicle Location                                      10\n",
       "2020 Census Tract                                      5\n",
       "City                                                   5\n",
       "Electric Utility                                       5\n",
       "Postal Code                                            5\n",
       "County                                                 5\n",
       "Electric Range                                         0\n",
       "DOL Vehicle ID                                         0\n",
       "Base MSRP                                              0\n",
       "VIN (1-10)                                             0\n",
       "Clean Alternative Fuel Vehicle (CAFV) Eligibility      0\n",
       "Model                                                  0\n",
       "Make                                                   0\n",
       "Model Year                                             0\n",
       "State                                                  0\n",
       "Electric Vehicle Type                                  0\n",
       "dtype: int64"
      ]
     },
     "execution_count": 9,
     "metadata": {},
     "output_type": "execute_result"
    }
   ],
   "source": [
    "(EVs.isnull().sum()).sort_values(ascending=False)"
   ]
  },
  {
   "cell_type": "code",
   "execution_count": 8,
   "metadata": {},
   "outputs": [
    {
     "data": {
      "text/plain": [
       "Legislative District                                 0.215827\n",
       "Vehicle Location                                     0.005995\n",
       "2020 Census Tract                                    0.002998\n",
       "City                                                 0.002998\n",
       "Electric Utility                                     0.002998\n",
       "Postal Code                                          0.002998\n",
       "County                                               0.002998\n",
       "Electric Range                                       0.000000\n",
       "DOL Vehicle ID                                       0.000000\n",
       "Base MSRP                                            0.000000\n",
       "VIN (1-10)                                           0.000000\n",
       "Clean Alternative Fuel Vehicle (CAFV) Eligibility    0.000000\n",
       "Model                                                0.000000\n",
       "Make                                                 0.000000\n",
       "Model Year                                           0.000000\n",
       "State                                                0.000000\n",
       "Electric Vehicle Type                                0.000000\n",
       "dtype: float64"
      ]
     },
     "execution_count": 8,
     "metadata": {},
     "output_type": "execute_result"
    }
   ],
   "source": [
    "((EVs.isnull().sum() / len(EVs)) * 100).sort_values(ascending=False)"
   ]
  },
  {
   "cell_type": "code",
   "execution_count": 16,
   "metadata": {},
   "outputs": [
    {
     "name": "stdout",
     "output_type": "stream",
     "text": [
      "Total values in Legisltaive District column:  166800 \n",
      "Total Non-Null values:  166440\n"
     ]
    }
   ],
   "source": [
    "print('Total values in Legisltaive District column: ', EVs['Legislative District'].shape[0], '\\nTotal Non-Null values: ', EVs['Legislative District'].shape[0] - EVs['Legislative District'].isnull().sum())"
   ]
  },
  {
   "cell_type": "code",
   "execution_count": 17,
   "metadata": {},
   "outputs": [
    {
     "name": "stdout",
     "output_type": "stream",
     "text": [
      "Total values in Vehicle Location column:  166800 \n",
      "Total Non-Null values:  166790\n"
     ]
    }
   ],
   "source": [
    "print('Total values in Vehicle Location column: ', EVs['Vehicle Location'].shape[0], '\\nTotal Non-Null values: ', \n",
    "      EVs['Vehicle Location'].shape[0] - EVs['Vehicle Location'].isnull().sum())"
   ]
  },
  {
   "cell_type": "markdown",
   "metadata": {},
   "source": [
    "# Duplicated Values"
   ]
  },
  {
   "cell_type": "code",
   "execution_count": 19,
   "metadata": {},
   "outputs": [
    {
     "data": {
      "text/plain": [
       "Electric Vehicle Type                                0.0006\n",
       "Clean Alternative Fuel Vehicle (CAFV) Eligibility    0.0006\n",
       "Electric Utility                                     0.0006\n",
       "Vehicle Location                                     0.0006\n",
       "DOL Vehicle ID                                       0.0006\n",
       "Legislative District                                 0.0006\n",
       "Base MSRP                                            0.0006\n",
       "Electric Range                                       0.0006\n",
       "2020 Census Tract                                    0.0006\n",
       "County                                               0.0006\n",
       "Model                                                0.0006\n",
       "Make                                                 0.0006\n",
       "Model Year                                           0.0006\n",
       "Postal Code                                          0.0006\n",
       "State                                                0.0006\n",
       "City                                                 0.0006\n",
       "VIN (1-10)                                           0.0000\n",
       "dtype: float64"
      ]
     },
     "execution_count": 19,
     "metadata": {},
     "output_type": "execute_result"
    }
   ],
   "source": [
    "((EVs.any().duplicated() / len(EVs)) * 100).sort_values(ascending=False)"
   ]
  },
  {
   "cell_type": "markdown",
   "metadata": {},
   "source": [
    "# Outliers"
   ]
  },
  {
   "cell_type": "code",
   "execution_count": 108,
   "metadata": {},
   "outputs": [
    {
     "name": "stdout",
     "output_type": "stream",
     "text": [
      "Quantile 1: 0.0 | Quantile 3: 84.0\n",
      "\n",
      "Interquantile range: 84.0\n",
      "\n",
      "Lower bound: -126.0 | Upper bound: 210.0\n",
      "\n",
      "Min value of \"Electric Range\" column:  0  |  Max value:  337\n",
      "\n",
      "Quantity of Outliers: 13\n",
      "\n",
      "Models of the outliers: ['MODEL 3' 'BOLT EV' 'NIRO' 'MODEL Y' 'MODEL S' 'MODEL X' 'PS2' 'I-PACE'\n",
      " 'E-TRON SPORTBACK' 'LEAF' 'E-TRON' 'KONA' 'ROADSTER']\n"
     ]
    }
   ],
   "source": [
    "quantile1, quantile3 = np.percentile(EVs['Electric Range'], [25,75])\n",
    "print(f'Quantile 1: {quantile1} | Quantile 3: {quantile3}')\n",
    "\n",
    "iqr = quantile3 - quantile1 # interquantile range\n",
    "print(f'\\nInterquantile range: {iqr}')\n",
    "\n",
    "lower_bound = quantile1 - (1.5 * iqr)\n",
    "upper_bound = quantile3 + (1.5 * iqr)\n",
    "\n",
    "print(f'\\nLower bound: {lower_bound} | Upper bound: {upper_bound}')\n",
    "\n",
    "print('\\nMin value of \"Electric Range\" column: ', EVs['Electric Range'].min(), ' |  Max value: ', EVs['Electric Range'].max())\n",
    "\n",
    "outliers = EVs[EVs['Electric Range'] > upper_bound]['Model']\n",
    "print(f\"\\nQuantity of Outliers: {len(outliers.unique())}\")\n",
    "\n",
    "print(f\"\\nModels of the outliers: {outliers.unique()}\")\n"
   ]
  },
  {
   "cell_type": "code",
   "execution_count": 201,
   "metadata": {},
   "outputs": [
    {
     "data": {
      "text/plain": [
       "array(['MODEL 3', 'BOLT EV', 'NIRO', 'MODEL Y', 'MODEL S', 'MODEL X',\n",
       "       'PS2', 'I-PACE', 'E-TRON SPORTBACK', 'LEAF', 'E-TRON', 'KONA',\n",
       "       'ROADSTER'], dtype=object)"
      ]
     },
     "execution_count": 201,
     "metadata": {},
     "output_type": "execute_result"
    }
   ],
   "source": [
    "outlier = pd.DataFrame(outliers)\n",
    "outlier = outlier['Model'].drop_duplicates()\n",
    "outlier.unique()"
   ]
  },
  {
   "cell_type": "markdown",
   "metadata": {},
   "source": [
    "#### What is the car with best Electric Range?"
   ]
  },
  {
   "cell_type": "code",
   "execution_count": 204,
   "metadata": {},
   "outputs": [
    {
     "name": "stdout",
     "output_type": "stream",
     "text": [
      "Remember upper bound value: 210.0\n",
      "The max value in 'Electric Range' column:  337\n",
      "The car with the max value:  ['MODEL S']\n"
     ]
    }
   ],
   "source": [
    "print(f'Remember upper bound value: {upper_bound}')\n",
    "\n",
    "print( \"The max value in 'Electric Range' column: \", max(EVs['Electric Range']) )\n",
    "print( \"The car with the max value: \", EVs['Model'][EVs['Electric Range'] == 337].unique() )"
   ]
  },
  {
   "cell_type": "markdown",
   "metadata": {},
   "source": [
    "#### Electric Battery vs Hybrid Vehicles"
   ]
  },
  {
   "cell_type": "code",
   "execution_count": 207,
   "metadata": {},
   "outputs": [
    {
     "name": "stdout",
     "output_type": "stream",
     "text": [
      "Electric Vehicle Type\n",
      "Battery Electric Vehicle (BEV)            130293\n",
      "Plug-in Hybrid Electric Vehicle (PHEV)     36507\n",
      "Name: count, dtype: int64\n"
     ]
    }
   ],
   "source": [
    "print(EVs['Electric Vehicle Type'].value_counts())"
   ]
  },
  {
   "cell_type": "markdown",
   "metadata": {},
   "source": [
    "#### Top 5 best 'Electric Range' Vehicles"
   ]
  },
  {
   "cell_type": "code",
   "execution_count": 230,
   "metadata": {},
   "outputs": [
    {
     "name": "stdout",
     "output_type": "stream",
     "text": [
      "[337, 330, 322, 308, 293, 291, 289, 270, 266, 265, 259, 258, 249, 245, 239, 238, 234, 233, 222, 220, 218, 215] \n",
      "\n",
      "['MODEL S']\n",
      "['MODEL S']\n",
      "['MODEL 3']\n",
      "['MODEL 3']\n",
      "['MODEL X']\n"
     ]
    }
   ],
   "source": [
    "top_outliers = EVs['Electric Range'][EVs['Electric Range'] > upper_bound].unique()\n",
    "\n",
    "print( sorted(top_outliers, reverse=True), '\\n' )\n",
    "\n",
    "print(EVs['Model'][EVs['Electric Range'] == sorted(top_outliers, reverse=True)[0] ].unique())\n",
    "print(EVs['Model'][EVs['Electric Range'] == sorted(top_outliers, reverse=True)[1] ].unique())\n",
    "print(EVs['Model'][EVs['Electric Range'] == sorted(top_outliers, reverse=True)[2] ].unique())\n",
    "print(EVs['Model'][EVs['Electric Range'] == sorted(top_outliers, reverse=True)[3] ].unique())\n",
    "print(EVs['Model'][EVs['Electric Range'] == sorted(top_outliers, reverse=True)[4] ].unique())"
   ]
  },
  {
   "cell_type": "code",
   "execution_count": 231,
   "metadata": {},
   "outputs": [
    {
     "name": "stdout",
     "output_type": "stream",
     "text": [
      "['TESLA']\n",
      "['TESLA']\n",
      "['TESLA']\n"
     ]
    }
   ],
   "source": [
    "print(EVs['Make'][EVs['Model'] == 'MODEL S'].unique())\n",
    "print(EVs['Make'][EVs['Model'] == 'MODEL X'].unique())\n",
    "print(EVs['Make'][EVs['Model'] == 'MODEL 3'].unique())"
   ]
  },
  {
   "cell_type": "markdown",
   "metadata": {},
   "source": [
    "#### Where does someone who owns a top electric car vehicle live?"
   ]
  },
  {
   "cell_type": "code",
   "execution_count": null,
   "metadata": {},
   "outputs": [],
   "source": []
  }
 ],
 "metadata": {
  "kernelspec": {
   "display_name": "Python 3",
   "language": "python",
   "name": "python3"
  },
  "language_info": {
   "codemirror_mode": {
    "name": "ipython",
    "version": 3
   },
   "file_extension": ".py",
   "mimetype": "text/x-python",
   "name": "python",
   "nbconvert_exporter": "python",
   "pygments_lexer": "ipython3",
   "version": "3.11.5"
  }
 },
 "nbformat": 4,
 "nbformat_minor": 2
}
