{
 "cells": [
  {
   "cell_type": "markdown",
   "metadata": {},
   "source": [
    "# Importing Libraries"
   ]
  },
  {
   "cell_type": "code",
   "execution_count": 1,
   "metadata": {},
   "outputs": [],
   "source": [
    "import pandas as pd\n",
    "import numpy as np\n",
    "import matplotlib.pyplot as plt"
   ]
  },
  {
   "cell_type": "markdown",
   "metadata": {},
   "source": [
    "# Reading the Data"
   ]
  },
  {
   "cell_type": "code",
   "execution_count": 2,
   "metadata": {},
   "outputs": [
    {
     "name": "stdout",
     "output_type": "stream",
     "text": [
      "(166800, 17)\n",
      "Index(['VIN (1-10)', 'County', 'City', 'State', 'Postal Code', 'Model Year',\n",
      "       'Make', 'Model', 'Electric Vehicle Type',\n",
      "       'Clean Alternative Fuel Vehicle (CAFV) Eligibility', 'Electric Range',\n",
      "       'Base MSRP', 'Legislative District', 'DOL Vehicle ID',\n",
      "       'Vehicle Location', 'Electric Utility', '2020 Census Tract'],\n",
      "      dtype='object')\n"
     ]
    }
   ],
   "source": [
    "EVs = pd.read_csv('Dataset/Electric_Vehicle_Population_Data.csv')\n",
    "print(EVs.shape)\n",
    "print(EVs.columns)"
   ]
  },
  {
   "cell_type": "code",
   "execution_count": 4,
   "metadata": {},
   "outputs": [
    {
     "name": "stdout",
     "output_type": "stream",
     "text": [
      "<class 'pandas.core.frame.DataFrame'>\n",
      "RangeIndex: 166800 entries, 0 to 166799\n",
      "Data columns (total 17 columns):\n",
      " #   Column                                             Non-Null Count   Dtype  \n",
      "---  ------                                             --------------   -----  \n",
      " 0   VIN (1-10)                                         166800 non-null  object \n",
      " 1   County                                             166795 non-null  object \n",
      " 2   City                                               166795 non-null  object \n",
      " 3   State                                              166800 non-null  object \n",
      " 4   Postal Code                                        166795 non-null  float64\n",
      " 5   Model Year                                         166800 non-null  int64  \n",
      " 6   Make                                               166800 non-null  object \n",
      " 7   Model                                              166800 non-null  object \n",
      " 8   Electric Vehicle Type                              166800 non-null  object \n",
      " 9   Clean Alternative Fuel Vehicle (CAFV) Eligibility  166800 non-null  object \n",
      " 10  Electric Range                                     166800 non-null  int64  \n",
      " 11  Base MSRP                                          166800 non-null  int64  \n",
      " 12  Legislative District                               166440 non-null  float64\n",
      " 13  DOL Vehicle ID                                     166800 non-null  int64  \n",
      " 14  Vehicle Location                                   166790 non-null  object \n",
      " 15  Electric Utility                                   166795 non-null  object \n",
      " 16  2020 Census Tract                                  166795 non-null  float64\n",
      "dtypes: float64(3), int64(4), object(10)\n",
      "memory usage: 21.6+ MB\n"
     ]
    }
   ],
   "source": [
    "EVs.info()"
   ]
  },
  {
   "cell_type": "markdown",
   "metadata": {},
   "source": [
    "Columns where non-null values are 166,800"
   ]
  },
  {
   "cell_type": "code",
   "execution_count": 46,
   "metadata": {},
   "outputs": [
    {
     "data": {
      "text/plain": [
       "VIN (1-10)                                            True\n",
       "County                                               False\n",
       "City                                                 False\n",
       "State                                                 True\n",
       "Postal Code                                          False\n",
       "Model Year                                            True\n",
       "Make                                                  True\n",
       "Model                                                 True\n",
       "Electric Vehicle Type                                 True\n",
       "Clean Alternative Fuel Vehicle (CAFV) Eligibility     True\n",
       "Electric Range                                        True\n",
       "Base MSRP                                             True\n",
       "Legislative District                                 False\n",
       "DOL Vehicle ID                                        True\n",
       "Vehicle Location                                     False\n",
       "Electric Utility                                     False\n",
       "2020 Census Tract                                    False\n",
       "dtype: bool"
      ]
     },
     "execution_count": 46,
     "metadata": {},
     "output_type": "execute_result"
    }
   ],
   "source": [
    "EVs.count() == 166800"
   ]
  },
  {
   "cell_type": "code",
   "execution_count": 18,
   "metadata": {},
   "outputs": [
    {
     "data": {
      "text/html": [
       "<div>\n",
       "<style scoped>\n",
       "    .dataframe tbody tr th:only-of-type {\n",
       "        vertical-align: middle;\n",
       "    }\n",
       "\n",
       "    .dataframe tbody tr th {\n",
       "        vertical-align: top;\n",
       "    }\n",
       "\n",
       "    .dataframe thead th {\n",
       "        text-align: right;\n",
       "    }\n",
       "</style>\n",
       "<table border=\"1\" class=\"dataframe\">\n",
       "  <thead>\n",
       "    <tr style=\"text-align: right;\">\n",
       "      <th></th>\n",
       "      <th>VIN (1-10)</th>\n",
       "      <th>County</th>\n",
       "      <th>City</th>\n",
       "      <th>State</th>\n",
       "      <th>Postal Code</th>\n",
       "      <th>Model Year</th>\n",
       "      <th>Make</th>\n",
       "      <th>Model</th>\n",
       "      <th>Electric Vehicle Type</th>\n",
       "      <th>Clean Alternative Fuel Vehicle (CAFV) Eligibility</th>\n",
       "      <th>Electric Range</th>\n",
       "      <th>Base MSRP</th>\n",
       "      <th>Legislative District</th>\n",
       "      <th>DOL Vehicle ID</th>\n",
       "      <th>Vehicle Location</th>\n",
       "      <th>Electric Utility</th>\n",
       "      <th>2020 Census Tract</th>\n",
       "    </tr>\n",
       "  </thead>\n",
       "  <tbody>\n",
       "    <tr>\n",
       "      <th>0</th>\n",
       "      <td>3C3CFFGE4E</td>\n",
       "      <td>Yakima</td>\n",
       "      <td>Yakima</td>\n",
       "      <td>WA</td>\n",
       "      <td>98902.0</td>\n",
       "      <td>2014</td>\n",
       "      <td>FIAT</td>\n",
       "      <td>500</td>\n",
       "      <td>Battery Electric Vehicle (BEV)</td>\n",
       "      <td>Clean Alternative Fuel Vehicle Eligible</td>\n",
       "      <td>87</td>\n",
       "      <td>0</td>\n",
       "      <td>14.0</td>\n",
       "      <td>1593721</td>\n",
       "      <td>POINT (-120.524012 46.5973939)</td>\n",
       "      <td>PACIFICORP</td>\n",
       "      <td>5.307700e+10</td>\n",
       "    </tr>\n",
       "    <tr>\n",
       "      <th>1</th>\n",
       "      <td>5YJXCBE40H</td>\n",
       "      <td>Thurston</td>\n",
       "      <td>Olympia</td>\n",
       "      <td>WA</td>\n",
       "      <td>98513.0</td>\n",
       "      <td>2017</td>\n",
       "      <td>TESLA</td>\n",
       "      <td>MODEL X</td>\n",
       "      <td>Battery Electric Vehicle (BEV)</td>\n",
       "      <td>Clean Alternative Fuel Vehicle Eligible</td>\n",
       "      <td>200</td>\n",
       "      <td>0</td>\n",
       "      <td>2.0</td>\n",
       "      <td>257167501</td>\n",
       "      <td>POINT (-122.817545 46.98876)</td>\n",
       "      <td>PUGET SOUND ENERGY INC</td>\n",
       "      <td>5.306701e+10</td>\n",
       "    </tr>\n",
       "    <tr>\n",
       "      <th>2</th>\n",
       "      <td>3MW39FS03P</td>\n",
       "      <td>King</td>\n",
       "      <td>Renton</td>\n",
       "      <td>WA</td>\n",
       "      <td>98058.0</td>\n",
       "      <td>2023</td>\n",
       "      <td>BMW</td>\n",
       "      <td>330E</td>\n",
       "      <td>Plug-in Hybrid Electric Vehicle (PHEV)</td>\n",
       "      <td>Not eligible due to low battery range</td>\n",
       "      <td>20</td>\n",
       "      <td>0</td>\n",
       "      <td>11.0</td>\n",
       "      <td>224071816</td>\n",
       "      <td>POINT (-122.1298876 47.4451257)</td>\n",
       "      <td>PUGET SOUND ENERGY INC||CITY OF TACOMA - (WA)</td>\n",
       "      <td>5.303303e+10</td>\n",
       "    </tr>\n",
       "    <tr>\n",
       "      <th>3</th>\n",
       "      <td>7PDSGABA8P</td>\n",
       "      <td>Snohomish</td>\n",
       "      <td>Bothell</td>\n",
       "      <td>WA</td>\n",
       "      <td>98012.0</td>\n",
       "      <td>2023</td>\n",
       "      <td>RIVIAN</td>\n",
       "      <td>R1S</td>\n",
       "      <td>Battery Electric Vehicle (BEV)</td>\n",
       "      <td>Eligibility unknown as battery range has not b...</td>\n",
       "      <td>0</td>\n",
       "      <td>0</td>\n",
       "      <td>21.0</td>\n",
       "      <td>260084653</td>\n",
       "      <td>POINT (-122.1873 47.820245)</td>\n",
       "      <td>PUGET SOUND ENERGY INC</td>\n",
       "      <td>5.306105e+10</td>\n",
       "    </tr>\n",
       "    <tr>\n",
       "      <th>4</th>\n",
       "      <td>5YJ3E1EB8L</td>\n",
       "      <td>King</td>\n",
       "      <td>Kent</td>\n",
       "      <td>WA</td>\n",
       "      <td>98031.0</td>\n",
       "      <td>2020</td>\n",
       "      <td>TESLA</td>\n",
       "      <td>MODEL 3</td>\n",
       "      <td>Battery Electric Vehicle (BEV)</td>\n",
       "      <td>Clean Alternative Fuel Vehicle Eligible</td>\n",
       "      <td>322</td>\n",
       "      <td>0</td>\n",
       "      <td>33.0</td>\n",
       "      <td>253771913</td>\n",
       "      <td>POINT (-122.2012521 47.3931814)</td>\n",
       "      <td>PUGET SOUND ENERGY INC||CITY OF TACOMA - (WA)</td>\n",
       "      <td>5.303303e+10</td>\n",
       "    </tr>\n",
       "    <tr>\n",
       "      <th>...</th>\n",
       "      <td>...</td>\n",
       "      <td>...</td>\n",
       "      <td>...</td>\n",
       "      <td>...</td>\n",
       "      <td>...</td>\n",
       "      <td>...</td>\n",
       "      <td>...</td>\n",
       "      <td>...</td>\n",
       "      <td>...</td>\n",
       "      <td>...</td>\n",
       "      <td>...</td>\n",
       "      <td>...</td>\n",
       "      <td>...</td>\n",
       "      <td>...</td>\n",
       "      <td>...</td>\n",
       "      <td>...</td>\n",
       "      <td>...</td>\n",
       "    </tr>\n",
       "    <tr>\n",
       "      <th>166795</th>\n",
       "      <td>3FA6P0SU4D</td>\n",
       "      <td>Spokane</td>\n",
       "      <td>Spokane</td>\n",
       "      <td>WA</td>\n",
       "      <td>99223.0</td>\n",
       "      <td>2013</td>\n",
       "      <td>FORD</td>\n",
       "      <td>FUSION</td>\n",
       "      <td>Plug-in Hybrid Electric Vehicle (PHEV)</td>\n",
       "      <td>Not eligible due to low battery range</td>\n",
       "      <td>19</td>\n",
       "      <td>0</td>\n",
       "      <td>6.0</td>\n",
       "      <td>239527123</td>\n",
       "      <td>POINT (-117.369705 47.62637)</td>\n",
       "      <td>BONNEVILLE POWER ADMINISTRATION||AVISTA CORP||...</td>\n",
       "      <td>5.306300e+10</td>\n",
       "    </tr>\n",
       "    <tr>\n",
       "      <th>166796</th>\n",
       "      <td>5YJYGDEE5M</td>\n",
       "      <td>King</td>\n",
       "      <td>Sammamish</td>\n",
       "      <td>WA</td>\n",
       "      <td>98074.0</td>\n",
       "      <td>2021</td>\n",
       "      <td>TESLA</td>\n",
       "      <td>MODEL Y</td>\n",
       "      <td>Battery Electric Vehicle (BEV)</td>\n",
       "      <td>Eligibility unknown as battery range has not b...</td>\n",
       "      <td>0</td>\n",
       "      <td>0</td>\n",
       "      <td>45.0</td>\n",
       "      <td>148715479</td>\n",
       "      <td>POINT (-122.0313266 47.6285782)</td>\n",
       "      <td>PUGET SOUND ENERGY INC||CITY OF TACOMA - (WA)</td>\n",
       "      <td>5.303303e+10</td>\n",
       "    </tr>\n",
       "    <tr>\n",
       "      <th>166797</th>\n",
       "      <td>7SAYGDEE5N</td>\n",
       "      <td>Snohomish</td>\n",
       "      <td>Mukilteo</td>\n",
       "      <td>WA</td>\n",
       "      <td>98275.0</td>\n",
       "      <td>2022</td>\n",
       "      <td>TESLA</td>\n",
       "      <td>MODEL Y</td>\n",
       "      <td>Battery Electric Vehicle (BEV)</td>\n",
       "      <td>Eligibility unknown as battery range has not b...</td>\n",
       "      <td>0</td>\n",
       "      <td>0</td>\n",
       "      <td>21.0</td>\n",
       "      <td>220504406</td>\n",
       "      <td>POINT (-122.299965 47.94171)</td>\n",
       "      <td>PUGET SOUND ENERGY INC</td>\n",
       "      <td>5.306104e+10</td>\n",
       "    </tr>\n",
       "    <tr>\n",
       "      <th>166798</th>\n",
       "      <td>1G1RH6E43D</td>\n",
       "      <td>Lewis</td>\n",
       "      <td>Mossyrock</td>\n",
       "      <td>WA</td>\n",
       "      <td>98564.0</td>\n",
       "      <td>2013</td>\n",
       "      <td>CHEVROLET</td>\n",
       "      <td>VOLT</td>\n",
       "      <td>Plug-in Hybrid Electric Vehicle (PHEV)</td>\n",
       "      <td>Clean Alternative Fuel Vehicle Eligible</td>\n",
       "      <td>38</td>\n",
       "      <td>0</td>\n",
       "      <td>20.0</td>\n",
       "      <td>156418475</td>\n",
       "      <td>POINT (-122.487535 46.5290135)</td>\n",
       "      <td>BONNEVILLE POWER ADMINISTRATION||CITY OF TACOM...</td>\n",
       "      <td>5.304197e+10</td>\n",
       "    </tr>\n",
       "    <tr>\n",
       "      <th>166799</th>\n",
       "      <td>5YJSA1E27H</td>\n",
       "      <td>Pierce</td>\n",
       "      <td>Gig Harbor</td>\n",
       "      <td>WA</td>\n",
       "      <td>98332.0</td>\n",
       "      <td>2017</td>\n",
       "      <td>TESLA</td>\n",
       "      <td>MODEL S</td>\n",
       "      <td>Battery Electric Vehicle (BEV)</td>\n",
       "      <td>Clean Alternative Fuel Vehicle Eligible</td>\n",
       "      <td>210</td>\n",
       "      <td>0</td>\n",
       "      <td>26.0</td>\n",
       "      <td>169045789</td>\n",
       "      <td>POINT (-122.589645 47.342345)</td>\n",
       "      <td>BONNEVILLE POWER ADMINISTRATION||CITY OF TACOM...</td>\n",
       "      <td>5.305307e+10</td>\n",
       "    </tr>\n",
       "  </tbody>\n",
       "</table>\n",
       "<p>166800 rows × 17 columns</p>\n",
       "</div>"
      ],
      "text/plain": [
       "        VIN (1-10)     County        City State  Postal Code  Model Year  \\\n",
       "0       3C3CFFGE4E     Yakima      Yakima    WA      98902.0        2014   \n",
       "1       5YJXCBE40H   Thurston     Olympia    WA      98513.0        2017   \n",
       "2       3MW39FS03P       King      Renton    WA      98058.0        2023   \n",
       "3       7PDSGABA8P  Snohomish     Bothell    WA      98012.0        2023   \n",
       "4       5YJ3E1EB8L       King        Kent    WA      98031.0        2020   \n",
       "...            ...        ...         ...   ...          ...         ...   \n",
       "166795  3FA6P0SU4D    Spokane     Spokane    WA      99223.0        2013   \n",
       "166796  5YJYGDEE5M       King   Sammamish    WA      98074.0        2021   \n",
       "166797  7SAYGDEE5N  Snohomish    Mukilteo    WA      98275.0        2022   \n",
       "166798  1G1RH6E43D      Lewis   Mossyrock    WA      98564.0        2013   \n",
       "166799  5YJSA1E27H     Pierce  Gig Harbor    WA      98332.0        2017   \n",
       "\n",
       "             Make    Model                   Electric Vehicle Type  \\\n",
       "0            FIAT      500          Battery Electric Vehicle (BEV)   \n",
       "1           TESLA  MODEL X          Battery Electric Vehicle (BEV)   \n",
       "2             BMW     330E  Plug-in Hybrid Electric Vehicle (PHEV)   \n",
       "3          RIVIAN      R1S          Battery Electric Vehicle (BEV)   \n",
       "4           TESLA  MODEL 3          Battery Electric Vehicle (BEV)   \n",
       "...           ...      ...                                     ...   \n",
       "166795       FORD   FUSION  Plug-in Hybrid Electric Vehicle (PHEV)   \n",
       "166796      TESLA  MODEL Y          Battery Electric Vehicle (BEV)   \n",
       "166797      TESLA  MODEL Y          Battery Electric Vehicle (BEV)   \n",
       "166798  CHEVROLET     VOLT  Plug-in Hybrid Electric Vehicle (PHEV)   \n",
       "166799      TESLA  MODEL S          Battery Electric Vehicle (BEV)   \n",
       "\n",
       "        Clean Alternative Fuel Vehicle (CAFV) Eligibility  Electric Range  \\\n",
       "0                 Clean Alternative Fuel Vehicle Eligible              87   \n",
       "1                 Clean Alternative Fuel Vehicle Eligible             200   \n",
       "2                   Not eligible due to low battery range              20   \n",
       "3       Eligibility unknown as battery range has not b...               0   \n",
       "4                 Clean Alternative Fuel Vehicle Eligible             322   \n",
       "...                                                   ...             ...   \n",
       "166795              Not eligible due to low battery range              19   \n",
       "166796  Eligibility unknown as battery range has not b...               0   \n",
       "166797  Eligibility unknown as battery range has not b...               0   \n",
       "166798            Clean Alternative Fuel Vehicle Eligible              38   \n",
       "166799            Clean Alternative Fuel Vehicle Eligible             210   \n",
       "\n",
       "        Base MSRP  Legislative District  DOL Vehicle ID  \\\n",
       "0               0                  14.0         1593721   \n",
       "1               0                   2.0       257167501   \n",
       "2               0                  11.0       224071816   \n",
       "3               0                  21.0       260084653   \n",
       "4               0                  33.0       253771913   \n",
       "...           ...                   ...             ...   \n",
       "166795          0                   6.0       239527123   \n",
       "166796          0                  45.0       148715479   \n",
       "166797          0                  21.0       220504406   \n",
       "166798          0                  20.0       156418475   \n",
       "166799          0                  26.0       169045789   \n",
       "\n",
       "                       Vehicle Location  \\\n",
       "0        POINT (-120.524012 46.5973939)   \n",
       "1          POINT (-122.817545 46.98876)   \n",
       "2       POINT (-122.1298876 47.4451257)   \n",
       "3           POINT (-122.1873 47.820245)   \n",
       "4       POINT (-122.2012521 47.3931814)   \n",
       "...                                 ...   \n",
       "166795     POINT (-117.369705 47.62637)   \n",
       "166796  POINT (-122.0313266 47.6285782)   \n",
       "166797     POINT (-122.299965 47.94171)   \n",
       "166798   POINT (-122.487535 46.5290135)   \n",
       "166799    POINT (-122.589645 47.342345)   \n",
       "\n",
       "                                         Electric Utility  2020 Census Tract  \n",
       "0                                              PACIFICORP       5.307700e+10  \n",
       "1                                  PUGET SOUND ENERGY INC       5.306701e+10  \n",
       "2           PUGET SOUND ENERGY INC||CITY OF TACOMA - (WA)       5.303303e+10  \n",
       "3                                  PUGET SOUND ENERGY INC       5.306105e+10  \n",
       "4           PUGET SOUND ENERGY INC||CITY OF TACOMA - (WA)       5.303303e+10  \n",
       "...                                                   ...                ...  \n",
       "166795  BONNEVILLE POWER ADMINISTRATION||AVISTA CORP||...       5.306300e+10  \n",
       "166796      PUGET SOUND ENERGY INC||CITY OF TACOMA - (WA)       5.303303e+10  \n",
       "166797                             PUGET SOUND ENERGY INC       5.306104e+10  \n",
       "166798  BONNEVILLE POWER ADMINISTRATION||CITY OF TACOM...       5.304197e+10  \n",
       "166799  BONNEVILLE POWER ADMINISTRATION||CITY OF TACOM...       5.305307e+10  \n",
       "\n",
       "[166800 rows x 17 columns]"
      ]
     },
     "execution_count": 18,
     "metadata": {},
     "output_type": "execute_result"
    }
   ],
   "source": [
    "EVs"
   ]
  },
  {
   "cell_type": "markdown",
   "metadata": {},
   "source": [
    "# Outliers"
   ]
  },
  {
   "cell_type": "code",
   "execution_count": 60,
   "metadata": {},
   "outputs": [],
   "source": [
    "mean = EVs['Electric Range'].mean()\n",
    "std = EVs['Electric Range'].std()\n",
    "\n",
    "upper_bound = mean + 3 * std\n",
    "lower_bound = mean - 3 * std"
   ]
  },
  {
   "cell_type": "code",
   "execution_count": 61,
   "metadata": {},
   "outputs": [],
   "source": [
    "outliers = []\n",
    "for value in EVs['Electric Range']:\n",
    "    if value > upper_bound or value < lower_bound:\n",
    "        outliers.append(value)"
   ]
  },
  {
   "cell_type": "code",
   "execution_count": 62,
   "metadata": {},
   "outputs": [
    {
     "name": "stdout",
     "output_type": "stream",
     "text": [
      "[]\n"
     ]
    }
   ],
   "source": [
    "print(outliers)"
   ]
  },
  {
   "cell_type": "markdown",
   "metadata": {},
   "source": [
    "# Null values"
   ]
  },
  {
   "cell_type": "code",
   "execution_count": 5,
   "metadata": {},
   "outputs": [
    {
     "data": {
      "text/plain": [
       "VIN (1-10)                                             0\n",
       "County                                                 5\n",
       "City                                                   5\n",
       "State                                                  0\n",
       "Postal Code                                            5\n",
       "Model Year                                             0\n",
       "Make                                                   0\n",
       "Model                                                  0\n",
       "Electric Vehicle Type                                  0\n",
       "Clean Alternative Fuel Vehicle (CAFV) Eligibility      0\n",
       "Electric Range                                         0\n",
       "Base MSRP                                              0\n",
       "Legislative District                                 360\n",
       "DOL Vehicle ID                                         0\n",
       "Vehicle Location                                      10\n",
       "Electric Utility                                       5\n",
       "2020 Census Tract                                      5\n",
       "dtype: int64"
      ]
     },
     "execution_count": 5,
     "metadata": {},
     "output_type": "execute_result"
    }
   ],
   "source": [
    "EVs.isnull().sum()"
   ]
  },
  {
   "cell_type": "code",
   "execution_count": 47,
   "metadata": {},
   "outputs": [
    {
     "name": "stdout",
     "output_type": "stream",
     "text": [
      "Total None Nulls Values:  166790\n"
     ]
    }
   ],
   "source": [
    "print('Total Non-Null Values in County column: ', EVs['County'].count() - EVs['County'].isnull().sum())"
   ]
  },
  {
   "cell_type": "code",
   "execution_count": 48,
   "metadata": {},
   "outputs": [
    {
     "name": "stdout",
     "output_type": "stream",
     "text": [
      "Total Non-Null Values in City column:  166790\n"
     ]
    }
   ],
   "source": [
    "print('Total Non-Null Values in City column: ', EVs['City'].count() - EVs['City'].isnull().sum())"
   ]
  },
  {
   "cell_type": "code",
   "execution_count": 49,
   "metadata": {},
   "outputs": [
    {
     "name": "stdout",
     "output_type": "stream",
     "text": [
      "Total Non-Null Values in City column:  166790\n"
     ]
    }
   ],
   "source": [
    "print('Total Non-Null Values in Postal Code column: ', EVs['Postal Code'].count() - EVs['Postal Code'].isnull().sum())"
   ]
  },
  {
   "cell_type": "code",
   "execution_count": 50,
   "metadata": {},
   "outputs": [
    {
     "name": "stdout",
     "output_type": "stream",
     "text": [
      "Total Non-Null Values in City column: 166080\n"
     ]
    }
   ],
   "source": [
    "print('Total Non-Null Values in Legislative District column:', EVs['Legislative District'].count() - EVs['Legislative District'].isnull().sum())"
   ]
  },
  {
   "cell_type": "code",
   "execution_count": 51,
   "metadata": {},
   "outputs": [
    {
     "name": "stdout",
     "output_type": "stream",
     "text": [
      "Total Non-Null Values in City column: 166780\n"
     ]
    }
   ],
   "source": [
    "print('Total Non-Null Values in Vehicle Location column:', EVs['Vehicle Location'].count() - EVs['Vehicle Location'].isnull().sum())"
   ]
  },
  {
   "cell_type": "code",
   "execution_count": 52,
   "metadata": {},
   "outputs": [
    {
     "name": "stdout",
     "output_type": "stream",
     "text": [
      "Total Non-Null Values in City column: 166790\n"
     ]
    }
   ],
   "source": [
    "print('Total Non-Null Values in Electric Utility column:', EVs['Electric Utility'].count() - EVs['Electric Utility'].isnull().sum())"
   ]
  },
  {
   "cell_type": "code",
   "execution_count": 53,
   "metadata": {},
   "outputs": [
    {
     "name": "stdout",
     "output_type": "stream",
     "text": [
      "Total Non-Null Values in City column: 166790\n"
     ]
    }
   ],
   "source": [
    "print('Total Non-Null Values in 2020 Census Tract column:', EVs['2020 Census Tract'].count() - EVs['2020 Census Tract'].isnull().sum())"
   ]
  },
  {
   "cell_type": "markdown",
   "metadata": {},
   "source": [
    "# Duplicated Values"
   ]
  },
  {
   "cell_type": "code",
   "execution_count": 10,
   "metadata": {},
   "outputs": [
    {
     "data": {
      "text/plain": [
       "Index(['VIN (1-10)', 'County', 'City', 'State', 'Postal Code', 'Model Year',\n",
       "       'Make', 'Model', 'Electric Vehicle Type',\n",
       "       'Clean Alternative Fuel Vehicle (CAFV) Eligibility', 'Electric Range',\n",
       "       'Base MSRP', 'Legislative District', 'DOL Vehicle ID',\n",
       "       'Vehicle Location', 'Electric Utility', '2020 Census Tract'],\n",
       "      dtype='object')"
      ]
     },
     "execution_count": 10,
     "metadata": {},
     "output_type": "execute_result"
    }
   ],
   "source": [
    "EVs.columns"
   ]
  },
  {
   "cell_type": "code",
   "execution_count": 9,
   "metadata": {},
   "outputs": [
    {
     "data": {
      "text/plain": [
       "VIN (1-10)                                           False\n",
       "County                                                True\n",
       "City                                                  True\n",
       "State                                                 True\n",
       "Postal Code                                           True\n",
       "Model Year                                            True\n",
       "Make                                                  True\n",
       "Model                                                 True\n",
       "Electric Vehicle Type                                 True\n",
       "Clean Alternative Fuel Vehicle (CAFV) Eligibility     True\n",
       "Electric Range                                        True\n",
       "Base MSRP                                             True\n",
       "Legislative District                                  True\n",
       "DOL Vehicle ID                                        True\n",
       "Vehicle Location                                      True\n",
       "Electric Utility                                      True\n",
       "2020 Census Tract                                     True\n",
       "dtype: bool"
      ]
     },
     "execution_count": 9,
     "metadata": {},
     "output_type": "execute_result"
    }
   ],
   "source": [
    "EVs.any().duplicated()"
   ]
  },
  {
   "cell_type": "markdown",
   "metadata": {},
   "source": [
    "# Graphs"
   ]
  },
  {
   "cell_type": "code",
   "execution_count": null,
   "metadata": {},
   "outputs": [],
   "source": [
    "# electric range\n",
    "\n",
    "#make and model"
   ]
  },
  {
   "cell_type": "markdown",
   "metadata": {},
   "source": [
    "What is the car with best Electric Range?"
   ]
  },
  {
   "cell_type": "code",
   "execution_count": 4,
   "metadata": {},
   "outputs": [
    {
     "name": "stdout",
     "output_type": "stream",
     "text": [
      "VIN (1-10)                                                                        5YJSA1E45L\n",
      "County                                                                                Kitsap\n",
      "City                                                                                 Poulsbo\n",
      "State                                                                                     WA\n",
      "Postal Code                                                                          98370.0\n",
      "Model Year                                                                              2020\n",
      "Make                                                                                   TESLA\n",
      "Model                                                                                MODEL S\n",
      "Electric Vehicle Type                                         Battery Electric Vehicle (BEV)\n",
      "Clean Alternative Fuel Vehicle (CAFV) Eligibility    Clean Alternative Fuel Vehicle Eligible\n",
      "Electric Range                                                                           337\n",
      "Base MSRP                                                                                  0\n",
      "Legislative District                                                                    23.0\n",
      "DOL Vehicle ID                                                                     102573621\n",
      "Vehicle Location                                                POINT (-122.64177 47.737525)\n",
      "Electric Utility                                                      PUGET SOUND ENERGY INC\n",
      "2020 Census Tract                                                              53035090502.0\n",
      "Name: 3724, dtype: object\n"
     ]
    }
   ],
   "source": [
    "index = EVs['Electric Range'].idxmax()\n",
    "print(EVs.iloc[index])"
   ]
  },
  {
   "cell_type": "code",
   "execution_count": 10,
   "metadata": {},
   "outputs": [
    {
     "name": "stdout",
     "output_type": "stream",
     "text": [
      "VIN (1-10)                                                                        5YJSA1E45L\n",
      "County                                                                                Kitsap\n",
      "City                                                                                 Poulsbo\n",
      "State                                                                                     WA\n",
      "Postal Code                                                                          98370.0\n",
      "Model Year                                                                              2020\n",
      "Make                                                                                   TESLA\n",
      "Model                                                                                MODEL S\n",
      "Electric Vehicle Type                                         Battery Electric Vehicle (BEV)\n",
      "Clean Alternative Fuel Vehicle (CAFV) Eligibility    Clean Alternative Fuel Vehicle Eligible\n",
      "Electric Range                                                                           337\n",
      "Base MSRP                                                                                  0\n",
      "Legislative District                                                                    23.0\n",
      "DOL Vehicle ID                                                                     102573621\n",
      "Vehicle Location                                                POINT (-122.64177 47.737525)\n",
      "Electric Utility                                                      PUGET SOUND ENERGY INC\n",
      "2020 Census Tract                                                              53035090502.0\n",
      "Name: 3724, dtype: object\n"
     ]
    }
   ],
   "source": [
    "min = EVs['Electric Range'].idxmax()\n",
    "print(EVs.iloc[min])"
   ]
  },
  {
   "cell_type": "code",
   "execution_count": 26,
   "metadata": {},
   "outputs": [
    {
     "name": "stdout",
     "output_type": "stream",
     "text": [
      "Quantity of unique values in Electric Range column:  102\n",
      "Unique Values in Electric Range column:\n",
      " [0, 6, 8, 9, 10, 11, 12, 13, 14, 15, 16, 17, 18, 19, 20, 21, 22, 23, 24, 25, 26, 27, 28, 29, 30, 31, 32, 33, 34, 35, 36, 37, 38, 39, 40, 41, 42, 47, 48, 51, 53, 56, 57, 58, 59, 62, 68, 72, 73, 74, 75, 76, 81, 82, 83, 84, 87, 93, 95, 97, 100, 103, 107, 110, 111, 114, 124, 125, 126, 149, 150, 151, 153, 170, 192, 200, 203, 204, 208, 210, 215, 218, 220, 222, 233, 234, 238, 239, 245, 249, 258, 259, 265, 266, 270, 289, 291, 293, 308, 322, 330, 337]\n"
     ]
    }
   ],
   "source": [
    "elec_ran = EVs['Electric Range'].unique()\n",
    "\n",
    "print(\"Quantity of unique values in Electric Range column: \", len(elec_ran))\n",
    "print(\"Unique Values in Electric Range column:\\n\", sorted(elec_ran))"
   ]
  },
  {
   "cell_type": "code",
   "execution_count": 37,
   "metadata": {},
   "outputs": [
    {
     "name": "stdout",
     "output_type": "stream",
     "text": [
      "Make\n",
      "TESLA                   74834\n",
      "NISSAN                  13848\n",
      "CHEVROLET               13072\n",
      "FORD                     8577\n",
      "BMW                      7196\n",
      "KIA                      6995\n",
      "TOYOTA                   5812\n",
      "VOLKSWAGEN               4717\n",
      "JEEP                     4100\n",
      "HYUNDAI                  4057\n",
      "VOLVO                    3962\n",
      "RIVIAN                   3554\n",
      "AUDI                     3464\n",
      "CHRYSLER                 2878\n",
      "MERCEDES-BENZ            1342\n",
      "PORSCHE                  1097\n",
      "MITSUBISHI                941\n",
      "MINI                      854\n",
      "POLESTAR                  853\n",
      "HONDA                     821\n",
      "FIAT                      801\n",
      "SUBARU                    788\n",
      "MAZDA                     384\n",
      "LEXUS                     307\n",
      "SMART                     275\n",
      "LINCOLN                   254\n",
      "CADILLAC                  245\n",
      "LUCID                     231\n",
      "JAGUAR                    221\n",
      "GENESIS                   161\n",
      "LAND ROVER                 53\n",
      "ALFA ROMEO                 29\n",
      "DODGE                      28\n",
      "FISKER                     28\n",
      "AZURE DYNAMICS              8\n",
      "TH!NK                       5\n",
      "WHEEGO ELECTRIC CARS        3\n",
      "BENTLEY                     3\n",
      "GMC                         2\n",
      "Name: count, dtype: int64\n",
      "\n",
      "\n",
      "\n",
      " 39\n"
     ]
    }
   ],
   "source": [
    "maker = EVs['Make'].unique()\n",
    "print(EVs['Make'].value_counts())\n",
    "print('\\n\\n\\n',len(maker))"
   ]
  },
  {
   "cell_type": "code",
   "execution_count": 33,
   "metadata": {},
   "outputs": [
    {
     "name": "stdout",
     "output_type": "stream",
     "text": [
      "138\n"
     ]
    }
   ],
   "source": [
    "model = EVs['Model'].unique()\n",
    "\n",
    "print(len(model))"
   ]
  },
  {
   "cell_type": "markdown",
   "metadata": {},
   "source": [
    "Top 5 best Electric Range Vehicles"
   ]
  },
  {
   "cell_type": "code",
   "execution_count": 20,
   "metadata": {},
   "outputs": [
    {
     "data": {
      "text/plain": [
       "array([337, 330, 322, 308, 293, 291, 289, 270, 266, 265, 259, 258, 249,\n",
       "       245, 239, 238, 234, 233, 222, 220, 218, 215, 210, 208, 204, 203,\n",
       "       200, 192, 170, 153, 151, 150, 149, 126, 125, 124, 114, 111, 110,\n",
       "       107, 103, 100,  97,  95,  93,  87,  84,  83,  82,  81,  76,  75,\n",
       "        74,  73,  72,  68,  62,  59,  58,  57,  56,  53,  51,  48,  47,\n",
       "        42,  41,  40,  39,  38,  37,  36,  35,  34,  33,  32,  31,  30,\n",
       "        29,  28,  27,  26,  25,  24,  23,  22,  21,  20,  19,  18,  17,\n",
       "        16,  15,  14,  13,  12,  11,  10,   9,   8,   6,   0], dtype=int64)"
      ]
     },
     "execution_count": 20,
     "metadata": {},
     "output_type": "execute_result"
    }
   ],
   "source": [
    "(EVs['Electric Range']).sort_values(ascending=False).unique()\n"
   ]
  },
  {
   "cell_type": "markdown",
   "metadata": {},
   "source": [
    "Where does someone who owns a top electric car vehicle live?"
   ]
  }
 ],
 "metadata": {
  "kernelspec": {
   "display_name": "Python 3",
   "language": "python",
   "name": "python3"
  },
  "language_info": {
   "codemirror_mode": {
    "name": "ipython",
    "version": 3
   },
   "file_extension": ".py",
   "mimetype": "text/x-python",
   "name": "python",
   "nbconvert_exporter": "python",
   "pygments_lexer": "ipython3",
   "version": "3.11.5"
  }
 },
 "nbformat": 4,
 "nbformat_minor": 2
}
